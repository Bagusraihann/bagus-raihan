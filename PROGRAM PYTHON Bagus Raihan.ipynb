{
 "cells": [
  {
   "cell_type": "code",
   "execution_count": 1,
   "metadata": {},
   "outputs": [
    {
     "name": "stdout",
     "output_type": "stream",
     "text": [
      "Luas Bangunan Apartemen ('dalam meter') = 50\n",
      "Letak Lantai Apartemen ( 'lantai 1 sampai 40') = 7\n",
      "Jumlah Kamar Pada apartemen ('maksimal 2 kamar') = 2\n",
      "Total Harga Luas  = Rp  600000000\n",
      "Harga Letak Lantai Apartemen  = Rp 2000000\n",
      "Harga Kamar Apartemen = Rp 1000000\n",
      "Harga Total Satu Apartemen = Rp 603000000\n"
     ]
    }
   ],
   "source": [
    "# PROGRAM PYTHON DALAM MENGHITUNG HARGA UNIT APARTEMEN\n",
    "luas = int(input(\"Luas Bangunan Apartemen ('dalam meter') = \"))\n",
    "lantai = int(input(\"Letak Lantai Apartemen ( 'lantai 1 sampai 40') = \"))\n",
    "kamar = int(input(\"Jumlah Kamar Pada apartemen ('maksimal 2 kamar') = \"))\n",
    "\n",
    "Harga_Luas =(luas*12000000)\n",
    "print (\"Total Harga Luas  = Rp \", Harga_Luas)\n",
    "\n",
    "if lantai < 16:\n",
    "    Harga_Letak_Lantai = 2000000\n",
    "    print (\"Harga Letak Lantai Apartemen  = Rp\", Harga_Letak_Lantai)\n",
    "elif lantai > 15:\n",
    "    Harga_Letak_Lantai = 1000000\n",
    "    print (\"Harga Letak Lantai Apartemen = Rp \", Harga_Letak_Lantai)\n",
    "    \n",
    "if  kamar == 1:\n",
    "    Harga_Kamar = 500000\n",
    "    print (\"Harga Kamar Apartemen = Rp \", Harga_Kamar)\n",
    "elif kamar ==2:\n",
    "    Harga_Kamar = 1000000\n",
    "    print (\"Harga Kamar Apartemen = Rp\", Harga_Kamar)\n",
    "    \n",
    "\n",
    "Harga_Total_Satu_Apartemen = Harga_Luas + Harga_Letak_Lantai + Harga_Kamar \n",
    "print (\"Harga Total Satu Apartemen = Rp\", Harga_Total_Satu_Apartemen)"
   ]
  },
  {
   "cell_type": "code",
   "execution_count": null,
   "metadata": {},
   "outputs": [],
   "source": []
  }
 ],
 "metadata": {
  "kernelspec": {
   "display_name": "Python 3",
   "language": "python",
   "name": "python3"
  },
  "language_info": {
   "codemirror_mode": {
    "name": "ipython",
    "version": 3
   },
   "file_extension": ".py",
   "mimetype": "text/x-python",
   "name": "python",
   "nbconvert_exporter": "python",
   "pygments_lexer": "ipython3",
   "version": "3.7.4"
  }
 },
 "nbformat": 4,
 "nbformat_minor": 2
}
